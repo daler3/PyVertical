{
 "cells": [
  {
   "cell_type": "code",
   "execution_count": 12,
   "id": "artistic-elevation",
   "metadata": {},
   "outputs": [],
   "source": [
    "class PSI_TAGS:\n",
    "    REVEAL_INTERSECTION = \"reveal_intersection\"\n",
    "    FPR = \"fpr\"\n",
    "    CLIENT_ITEMS_LEN = \"client_items_len\"\n",
    "    SETUP = \"setup\"\n",
    "    REQUEST = \"request\"\n",
    "    RESPONSE = \"response\"\n",
    "    VALUES = \"values\"\n",
    "    LABELS = \"labels\"\n",
    "    IDS = \"ids\"\n",
    "    IDS_INTERSECT = \"ids_intersec\""
   ]
  },
  {
   "cell_type": "code",
   "execution_count": 18,
   "id": "impaired-forge",
   "metadata": {},
   "outputs": [],
   "source": [
    "class PSI_STATUS: \n",
    "    PRE = 0\n",
    "    INIT = 1\n",
    "    SETUP = 2\n",
    "    RESPONSE = 3 "
   ]
  },
  {
   "cell_type": "code",
   "execution_count": 19,
   "id": "acute-uzbekistan",
   "metadata": {},
   "outputs": [
    {
     "data": {
      "text/plain": [
       "False"
      ]
     },
     "execution_count": 19,
     "metadata": {},
     "output_type": "execute_result"
    }
   ],
   "source": [
    "PSI_STATUS.PRE > PSI_STATUS.INIT"
   ]
  },
  {
   "cell_type": "code",
   "execution_count": null,
   "id": "still-calcium",
   "metadata": {},
   "outputs": [],
   "source": []
  }
 ],
 "metadata": {
  "kernelspec": {
   "display_name": "Python 3",
   "language": "python",
   "name": "python3"
  },
  "language_info": {
   "codemirror_mode": {
    "name": "ipython",
    "version": 3
   },
   "file_extension": ".py",
   "mimetype": "text/x-python",
   "name": "python",
   "nbconvert_exporter": "python",
   "pygments_lexer": "ipython3",
   "version": "3.7.9"
  }
 },
 "nbformat": 4,
 "nbformat_minor": 5
}
