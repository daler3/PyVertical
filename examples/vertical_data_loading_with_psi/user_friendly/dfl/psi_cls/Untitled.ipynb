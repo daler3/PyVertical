{
 "cells": [
  {
   "cell_type": "code",
   "execution_count": 13,
   "id": "psychological-edwards",
   "metadata": {},
   "outputs": [],
   "source": [
    "import psi_status_tag"
   ]
  },
  {
   "cell_type": "code",
   "execution_count": 19,
   "id": "celtic-oklahoma",
   "metadata": {},
   "outputs": [],
   "source": [
    "from abc import ABC, abstractmethod\n",
    "import do_psi\n",
    "import ds_psi\n",
    "from psi_abs import PsiProtocol\n",
    "\n",
    "\n",
    "class DuetRole(ABC): \n",
    "    def __init__(self, data_dir=None, label_dir=None, index_dir=None, name=\"\"):\n",
    "        \n",
    "        #load data\n",
    "        #self.index_list = self.__load_data(index_dir) \n",
    "        #data_list = self.__load_data(data_dir) \n",
    "        #label_list = self.__load_data(label_dir) \n",
    "        \n",
    "        #create dataset\n",
    "        #self.dataset = self.__create_dataset(data_list, label_list, self.index_list)\n",
    "        \n",
    "        self.name = name\n",
    "        self.duet = None\n",
    "        self._protocol = None\n",
    "        \n",
    "    def __load_data(self, directory):\n",
    "        return pickle.load(open(directory, 'rb'), encoding='utf-8') if directory else None\n",
    "    \n",
    "    def __create_dataset(self, data_list, label_list, index_list):\n",
    "        if not index_list: \n",
    "            label_set = torch.Tensor(label_list) if label_list else None\n",
    "            bs = torch.Tensor(data_list) if data_list else None\n",
    "            dataset = SampleSetWithLabelsNoIndex(label_set, bs) if (label_set and bs) else (label_set or bs)\n",
    "\n",
    "        else: #there is index\n",
    "            label_set = BaseIndexSet(index_list, self.name, label_list, is_labels=True) if label_list else None\n",
    "            bs = BaseIndexSet(index_list, self.name, data_list, is_labels=False) if data_list else None\n",
    "            dataset = SampleIndexSetWithLabels(label_set, bs, self.name) if (label_set and bs) else (label_set or bs)\n",
    "            \n",
    "        return dataset\n",
    "        \n",
    "    @abstractmethod\n",
    "    def connect_to_duet(self, loopback=True, server_id=None):\n",
    "        pass\n",
    "    \n",
    "    @property\n",
    "    def protocol(self):\n",
    "        return self._protocol\n",
    "    \n",
    "    @protocol.setter\n",
    "    def protocol(self, psi_prot):\n",
    "        assert type(psi_prot) == PsiProtocol, \"The protocol should be a PSI Protocol\"\n",
    "        self._protocol = psi_prot\n",
    "\n",
    "\n",
    "class DataScientist(DuetRole):        \n",
    "    def connect_to_duet(self, loopback=True, server_id=None):\n",
    "        self.duet = sy.join_duet(loopback=loopback) if loopback else sy.join_duet(server_id)\n",
    "        return self.duet\n",
    "\n",
    "\n",
    "class DataOwner(DuetRole):    \n",
    "    def connect_to_duet(self, loopback=True):\n",
    "        self.duet = sy.launch_duet(loopback=loopback)\n",
    "        return self.duet "
   ]
  },
  {
   "cell_type": "code",
   "execution_count": 20,
   "id": "leading-battlefield",
   "metadata": {},
   "outputs": [
    {
     "data": {
      "text/plain": [
       "<__main__.DataOwner at 0x7f8b64f07b90>"
      ]
     },
     "execution_count": 20,
     "metadata": {},
     "output_type": "execute_result"
    }
   ],
   "source": [
    "DataOwner()"
   ]
  },
  {
   "cell_type": "code",
   "execution_count": null,
   "id": "exclusive-trust",
   "metadata": {},
   "outputs": [],
   "source": []
  },
  {
   "cell_type": "code",
   "execution_count": 41,
   "id": "printable-onion",
   "metadata": {},
   "outputs": [],
   "source": [
    "from torch.utils.data import Dataset \n",
    "from abc import ABC\n",
    "\n",
    "class IndexSet(ABC): \n",
    "    def __init__(self,ids,owner):\n",
    "        self.ids = ids\n",
    "        self.owner = owner\n",
    "        \n",
    "    @property\n",
    "    def ids(self):\n",
    "        return self.__ids\n",
    "    \n",
    "    @ids.setter\n",
    "    def ids(self, ids):\n",
    "        self.__ids = ids\n",
    "        \n",
    "    \n",
    "    \n",
    "class BaseIndexSet(IndexSet, Dataset):\n",
    "    def __init__(self, ids, owner, is_labels=False):\n",
    "        self.values_dic = {}\n",
    "        super(BaseIndexSet, self).__init__(ids, owner)"
   ]
  },
  {
   "cell_type": "code",
   "execution_count": 42,
   "id": "happy-michigan",
   "metadata": {},
   "outputs": [
    {
     "data": {
      "text/plain": [
       "<__main__.BaseIndexSet at 0x7f8b64ec6b90>"
      ]
     },
     "execution_count": 42,
     "metadata": {},
     "output_type": "execute_result"
    }
   ],
   "source": [
    "BaseIndexSet([1,2,3], \"j\")"
   ]
  },
  {
   "cell_type": "code",
   "execution_count": null,
   "id": "large-purple",
   "metadata": {},
   "outputs": [],
   "source": []
  }
 ],
 "metadata": {
  "kernelspec": {
   "display_name": "Python 3",
   "language": "python",
   "name": "python3"
  },
  "language_info": {
   "codemirror_mode": {
    "name": "ipython",
    "version": 3
   },
   "file_extension": ".py",
   "mimetype": "text/x-python",
   "name": "python",
   "nbconvert_exporter": "python",
   "pygments_lexer": "ipython3",
   "version": "3.7.9"
  }
 },
 "nbformat": 4,
 "nbformat_minor": 5
}
